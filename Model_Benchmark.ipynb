{
 "cells": [
  {
   "cell_type": "code",
   "execution_count": 2,
   "id": "a21fb5ac",
   "metadata": {},
   "outputs": [
    {
     "name": "stdout",
     "output_type": "stream",
     "text": [
      "loading... AWS-JP1_BINANCE_SWAP_BTC-USDT_TRADE_2025_03_18.hdf \n",
      "loading... AWS-JP1_BINANCE_SWAP_BTC-USDT_DEPTH5_2025_03_18.hdf \n"
     ]
    }
   ],
   "source": [
    "import filegetter.filegetter as fgt\n",
    "import pandas as pd\n",
    "df = fgt.get(\"binance\", \"swap\", \"btc-usdt\", \"trade\",\"20250318\", machine=\"AWS-JP1\")\n",
    "dg = fgt.get(\"binance\", \"swap\", \"btc-usdt\", \"depth5\",\"20250318\", machine=\"AWS-JP1\")\n",
    "trades_df=df\n",
    "quotes_df=dg\n"
   ]
  },
  {
   "cell_type": "markdown",
   "id": "5a6f3d97",
   "metadata": {},
   "source": [
    "# MA"
   ]
  },
  {
   "cell_type": "code",
   "execution_count": 3,
   "id": "85f344cd",
   "metadata": {},
   "outputs": [
    {
     "name": "stdout",
     "output_type": "stream",
     "text": [
      "样本点数      : 86,394\n",
      "MAE           : 3.4147\n",
      "RMSE          : 13.1007\n",
      "MAPE (mean)   : 403.59%\n",
      "R²            : 0.0751\n"
     ]
    }
   ],
   "source": [
    "import pandas as pd, numpy as np\n",
    "from sklearn.metrics import mean_absolute_error, mean_squared_error, r2_score\n",
    "\n",
    "# ------------ 0. 载入&预处理 ------------------------------------------------\n",
    "# trade_df 应至少包含列: ts (ms), v (signed volume)\n",
    "trades_df[\"datetime\"] = pd.to_datetime(trades_df[\"ts\"], unit=\"ms\")\n",
    "trades = (trades_df.set_index(\"datetime\")\n",
    "                     .sort_index())\n",
    "\n",
    "# 只关心绝对成交量\n",
    "trades[\"vol\"] = trades[\"v\"].abs()\n",
    "\n",
    "# ------------ 1. 秒级聚合 ---------------------------------------------------\n",
    "vol_1s = trades[\"vol\"].resample(\"1s\").sum().fillna(0)   # (Series, 1s freq)\n",
    "\n",
    "# ------------ 2. 构造特征 & 标签 -------------------------------------------\n",
    "# 过去 120 秒滚动平均 (含当前秒)\n",
    "pred_vol = vol_1s.rolling(window=120, min_periods=1).mean()\n",
    "\n",
    "# 未来 2 秒成交量 (窗口 = 当前秒 + 下一秒)\n",
    "true_vol = vol_1s.rolling(window=2, min_periods=2).sum().shift(-1)\n",
    "\n",
    "# 对齐并去掉尾部 NaN\n",
    "df_eval = pd.DataFrame({\"pred\": pred_vol, \"true\": true_vol}).dropna()\n",
    "\n",
    "# ------------ 3. 评估指标 ---------------------------------------------------\n",
    "mae  = mean_absolute_error(df_eval[\"true\"], df_eval[\"pred\"])\n",
    "rmse = mean_squared_error(df_eval[\"true\"], df_eval[\"pred\"], squared=False)\n",
    "mape = (np.abs(df_eval[\"true\"]-df_eval[\"pred\"]) / df_eval[\"true\"].replace(0, np.nan)).mean()\n",
    "r2   = r2_score(df_eval[\"true\"], df_eval[\"pred\"])\n",
    "\n",
    "print(f\"样本点数      : {len(df_eval):,}\")\n",
    "print(f\"MAE           : {mae:,.4f}\")\n",
    "print(f\"RMSE          : {rmse:,.4f}\")\n",
    "print(f\"MAPE (mean)   : {mape:,.2%}\")\n",
    "print(f\"R²            : {r2:,.4f}\")\n"
   ]
  },
  {
   "cell_type": "markdown",
   "id": "ad6f4bee",
   "metadata": {},
   "source": [
    "# EWMA"
   ]
  },
  {
   "cell_type": "code",
   "execution_count": null,
   "id": "ec27ca54",
   "metadata": {},
   "outputs": [
    {
     "name": "stdout",
     "output_type": "stream",
     "text": [
      "样本点数      : 86,394\n",
      "MAE           : 3.3337\n",
      "RMSE          : 12.9123\n",
      "MAPE (mean)   : 379.44%\n",
      "R²            : 0.1015\n"
     ]
    }
   ],
   "source": [
    "import pandas as pd, numpy as np\n",
    "from sklearn.metrics import mean_absolute_error, mean_squared_error, r2_score\n",
    "\n",
    "# ------------ 0. 载入&预处理 ------------------------------------------------\n",
    "# trade_df 应至少包含列: ts (ms), v (signed volume)\n",
    "trades_df[\"datetime\"] = pd.to_datetime(trades_df[\"ts\"], unit=\"ms\")\n",
    "trades = (trades_df.set_index(\"datetime\")\n",
    "                     .sort_index())\n",
    "\n",
    "# 只关心绝对成交量\n",
    "trades[\"vol\"] = trades[\"v\"].abs()\n",
    "\n",
    "# ------------ 1. 秒级聚合 ---------------------------------------------------\n",
    "vol_1s = trades[\"vol\"].resample(\"1s\").sum().fillna(0)   # (Series, 1s freq)\n",
    "\n",
    "# ------------ 2. 构造特征 & 标签 -------------------------------------------\n",
    "pred_vol = vol_1s.ewm(halflife=30, adjust=False).mean()\n",
    "\n",
    "# 未来 2 秒成交量 (窗口 = 当前秒 + 下一秒)\n",
    "true_vol = vol_1s.rolling(window=2, min_periods=2).sum().shift(-1)\n",
    "\n",
    "# 对齐并去掉尾部 NaN\n",
    "df_eval = pd.DataFrame({\"pred\": pred_vol, \"true\": true_vol}).dropna()\n",
    "\n",
    "# ------------ 3. 评估指标 ---------------------------------------------------\n",
    "mae  = mean_absolute_error(df_eval[\"true\"], df_eval[\"pred\"])\n",
    "rmse = mean_squared_error(df_eval[\"true\"], df_eval[\"pred\"], squared=False)\n",
    "mape = (np.abs(df_eval[\"true\"]-df_eval[\"pred\"]) / df_eval[\"true\"].replace(0, np.nan)).mean()\n",
    "r2   = r2_score(df_eval[\"true\"], df_eval[\"pred\"])\n",
    "\n",
    "print(f\"样本点数      : {len(df_eval):,}\")\n",
    "print(f\"MAE           : {mae:,.4f}\")\n",
    "print(f\"RMSE          : {rmse:,.4f}\")\n",
    "print(f\"MAPE (mean)   : {mape:,.2%}\")\n",
    "print(f\"R²            : {r2:,.4f}\")\n"
   ]
  },
  {
   "cell_type": "markdown",
   "id": "4ee4eac4",
   "metadata": {},
   "source": [
    "# 对数线性回归"
   ]
  },
  {
   "cell_type": "code",
   "execution_count": 5,
   "id": "e050c4dc",
   "metadata": {},
   "outputs": [
    {
     "name": "stdout",
     "output_type": "stream",
     "text": [
      "n = 86,275,   MAE = 23.543,   RMSE = 591.512\n"
     ]
    }
   ],
   "source": [
    "import numpy as np, pandas as pd\n",
    "from scipy.stats import linregress\n",
    "\n",
    "# ---- 0. 计算特征、标签（对数空间） ---------------------------------\n",
    "logv = np.log1p(vol_1s)                      # ln(1 + v)\n",
    "X = logv.rolling(120, min_periods=120).mean()          # >=120 样本时才出值\n",
    "y = logv.rolling(2,   min_periods=2  ).sum().shift(-1) # 未来2秒\n",
    "\n",
    "# ---- 1. 一次性过滤所有非法值 ----------------------------------------\n",
    "df_xy = pd.DataFrame({\"X\": X, \"y\": y}).dropna()        # 去掉 NaN\n",
    "df_xy = df_xy[np.isfinite(df_xy[\"X\"]) & np.isfinite(df_xy[\"y\"])]  # 去 ±inf\n",
    "\n",
    "# 至少要 2 个样本才能拟合\n",
    "if len(df_xy) < 2:\n",
    "    raise ValueError(\"Not enough valid points for regression\")\n",
    "\n",
    "# ---- 2. 线性回归（y = a * X + b） -----------------------------------\n",
    "slope, intercept, r_value, *_ = linregress(df_xy[\"X\"], df_xy[\"y\"])\n",
    "\n",
    "# ---- 3. 还原预测值 ---------------------------------------------------\n",
    "pred_log = slope * X + intercept            # Series，与原时间轴对齐\n",
    "pred_vol = np.expm1(pred_log)               # 逆 log1p\n",
    "\n",
    "# ---- 4. 与真实值对齐评估 -------------------------------------------\n",
    "true_vol = np.expm1(y)                      # 把标签也还原\n",
    "df_eval = pd.DataFrame({\"pred\": pred_vol, \"true\": true_vol}).dropna()\n",
    "\n",
    "mae  = (df_eval[\"pred\"] - df_eval[\"true\"]).abs().mean()\n",
    "rmse = np.sqrt(((df_eval[\"pred\"] - df_eval[\"true\"])**2).mean())\n",
    "print(f\"n = {len(df_eval):,},   MAE = {mae:.3f},   RMSE = {rmse:.3f}\")\n"
   ]
  },
  {
   "cell_type": "markdown",
   "id": "eab513ec",
   "metadata": {},
   "source": [
    "## 简单Hawkes"
   ]
  },
  {
   "cell_type": "code",
   "execution_count": 2,
   "id": "dac27012",
   "metadata": {},
   "outputs": [
    {
     "name": "stdout",
     "output_type": "stream",
     "text": [
      "Fit result: μ=0.0000, α=0.9943, β=2.0\n",
      "n=86,394, MAE=4.280, RMSE=14.279, R²=-0.0987\n"
     ]
    }
   ],
   "source": [
    "import numpy as np, pandas as pd\n",
    "from tick.hawkes import HawkesExpKern\n",
    "from sklearn.metrics import mean_absolute_error, mean_squared_error, r2_score\n",
    "\n",
    "# ---------------- 0. 准备逐笔事件序列 -----------------\n",
    "trades_df[\"datetime\"] = pd.to_datetime(trades_df[\"ts\"], unit=\"ms\")\n",
    "trades = trades_df.set_index(\"datetime\").sort_index()\n",
    "\n",
    "# 仅统计绝对成交量；若想分方向，可拆成正/负两条 Hawkes\n",
    "trades[\"vol\"] = trades[\"v\"].abs()\n",
    "\n",
    "# 事件时间（秒）——重复一条事件 vol 次会过大，这里用“每笔=1 手”近似\n",
    "event_times = trades.index.view(\"int64\") / 1e9         # ndarray[float64]\n",
    "\n",
    "# ---------------- 1. 拟合单指数 Hawkes -----------------\n",
    "beta = 2.0                 # 衰减率 (s⁻¹)，≈0.5 s 的半衰期，可调\n",
    "hawkes = HawkesExpKern(decays=[[beta]], max_iter=80)\n",
    "hawkes.fit([event_times])\n",
    "\n",
    "mu     = hawkes.baseline[0]          # 基线 μ\n",
    "alpha  = hawkes.adjacency[0, 0]      # 自激 α\n",
    "print(f\"Fit result: μ={mu:.4f}, α={alpha:.4f}, β={beta}\")\n",
    "\n",
    "# ---------------- 2. 生成秒级特征网格 -----------------\n",
    "sec_series = trades[\"vol\"].resample(\"1s\").sum().fillna(0)\n",
    "t0   = sec_series.index[0].value / 1e9\n",
    "grid = (sec_series.index.view(\"int64\") / 1e9) - t0      # 秒坐标\n",
    "\n",
    "# ---------------- 3. 计算未来 2 s 期望量 ----------------\n",
    "# analytic integral:  Λ(t,Δ)=μΔ + α/β * (1-e^{-βΔ}) * Σ_j e^{-β(t - t_j)}\n",
    "Δ = 2.0\n",
    "kernel_int = alpha / beta * (1 - np.exp(-beta * Δ))\n",
    "\n",
    "# rolling pointer式累积和，O(N+M)\n",
    "intensity_sum = np.zeros_like(grid)\n",
    "k = 0\n",
    "for i, t in enumerate(grid):\n",
    "    while k < len(event_times) and event_times[k] < t - 10:   # 10 s 斩尾\n",
    "        k += 1\n",
    "    # 对剩余事件做向量化 dot\n",
    "    dt = t - event_times[k:]\n",
    "    valid = dt[dt > 0]\n",
    "    if len(valid):\n",
    "        intensity_sum[i] = np.exp(-beta * valid).sum()\n",
    "\n",
    "pred_cnt = mu * Δ + kernel_int * intensity_sum        # 预测未来 2 s 成交数\n",
    "\n",
    "# ---------------- 4. 构造真实标签 --------------------\n",
    "true_cnt = (sec_series.rolling(2).sum().shift(-1))    # 当前秒+下一秒\n",
    "df_eval = pd.DataFrame({\"pred\": pred_cnt,\n",
    "                        \"true\": true_cnt.values}).dropna()\n",
    "\n",
    "# ---------------- 5. 评估 ----------------------------\n",
    "mae  = mean_absolute_error(df_eval[\"true\"], df_eval[\"pred\"])\n",
    "rmse = mean_squared_error(df_eval[\"true\"], df_eval[\"pred\"], squared=False)\n",
    "r2   = r2_score(df_eval[\"true\"], df_eval[\"pred\"])\n",
    "print(f\"n={len(df_eval):,}, MAE={mae:.3f}, RMSE={rmse:.3f}, R²={r2:.4f}\")\n"
   ]
  },
  {
   "cell_type": "markdown",
   "id": "91e6c2b3",
   "metadata": {},
   "source": [
    "# 事件按真实手数重复+双指数核+FFT 卷积"
   ]
  },
  {
   "cell_type": "code",
   "execution_count": 3,
   "id": "afa5de37",
   "metadata": {},
   "outputs": [
    {
     "name": "stdout",
     "output_type": "stream",
     "text": [
      "μ=0.0212, α_total=0.9499, β1=2.0, β2=0.2\n",
      "Samples : 86,390\n",
      "MAE     : 3.363\n",
      "RMSE    : 10.744\n",
      "R²      : 0.0000\n"
     ]
    }
   ],
   "source": [
    "# ===============================================================\n",
    "# Hawkes benchmark — predict 2-second volume\n",
    "# (1-sec grid, dual-decay λ, FFT convolution)\n",
    "# ===============================================================\n",
    "import numpy as np, pandas as pd\n",
    "from scipy.signal import fftconvolve\n",
    "from sklearn.metrics import mean_absolute_error, mean_squared_error, r2_score\n",
    "from tick.hawkes import HawkesExpKern\n",
    "\n",
    "# ---------------- 用户可调超参 ---------------------------------\n",
    "DT_FE     = 1.0          # λ(t) 采样步长（秒）\n",
    "PRED_WIN  = 2.0          # 预测窗口 Δ = 2 s\n",
    "BETAS     = [2.0, 0.2]   # 双衰减 (β=2 s⁻¹ ≈0.5 s, β=0.2 s⁻¹ ≈5 s)\n",
    "LOOKBACK  = 20           # λ(t) 只回看最近 20 s 事件\n",
    "VOL_CLIP  = 50           # 每笔 volume > VOL_CLIP 时仅按 VOL_CLIP 次重复，防爆内存\n",
    "# ---------------------------------------------------------------\n",
    "\n",
    "# ---------- 0. 载入 & 逐笔事件 → 秒坐标 -------------------------\n",
    "trades_df[\"datetime\"] = pd.to_datetime(trades_df[\"ts\"], unit=\"ms\")\n",
    "trades = trades_df.set_index(\"datetime\").sort_index()\n",
    "trades[\"vol_int\"] = trades[\"v\"].abs().astype(int).clip(upper=VOL_CLIP)\n",
    "\n",
    "evt_times = np.repeat(\n",
    "    trades.index.view(\"int64\") / 1e9,\n",
    "    trades[\"vol_int\"]                     # 重复 volume_i 次\n",
    ")\n",
    "t0 = evt_times[0]\n",
    "evt_times -= t0                           # 归零秒坐标\n",
    "\n",
    "# ---------- 1. 拟合双指数核 Hawkes ------------------------------\n",
    "hawkes = HawkesExpKern(decays=[BETAS], max_iter=80)\n",
    "hawkes.fit([evt_times])\n",
    "\n",
    "mu        = float(hawkes.baseline[0])\n",
    "alpha_tot = float(hawkes.adjacency[0, 0])   # tick 把多核 α 求和放这里\n",
    "β1, β2    = BETAS\n",
    "print(f\"μ={mu:.4f}, α_total={alpha_tot:.4f}, β1={β1}, β2={β2}\")\n",
    "\n",
    "# ---------- 2. 生成 1-s 网格 & 计算 λ(t) ------------------------\n",
    "grid = np.arange(0, evt_times[-1] + DT_FE, DT_FE)\n",
    "\n",
    "def hawkes_lambda(events, grid, μ, α, β1, β2, look):\n",
    "    lam = np.empty_like(grid)\n",
    "    k = 0\n",
    "    for i, t in enumerate(grid):\n",
    "        while k < len(events) and events[k] < t - look:\n",
    "            k += 1\n",
    "        acc = 0.0\n",
    "        for j in range(k, len(events)):\n",
    "            dt = t - events[j]\n",
    "            if dt <= 0.0:\n",
    "                break\n",
    "            acc += α * (np.exp(-β1*dt) + np.exp(-β2*dt))  # α 被平均分到两核\n",
    "        lam[i] = μ + 0.5 * acc             # 0.5× 是因为α被拆到两核\n",
    "    return lam\n",
    "\n",
    "lam = hawkes_lambda(evt_times, grid, mu, alpha_tot, β1, β2, LOOKBACK)\n",
    "\n",
    "# ---------- 3. λ(t) ⇒ 未来 2 s 期望量 (FFT 卷积) ---------------\n",
    "kernel_len = int(PRED_WIN / DT_FE) + 1          # 2 s / 1 s = 2 → 长度 3\n",
    "kernel = np.ones(kernel_len)\n",
    "pred_cnt = fftconvolve(lam, kernel, mode=\"same\") * DT_FE   # 积分近似求和\n",
    "\n",
    "# ---------- 4. 构造真实 2 s 成交量 -----------------------------\n",
    "true_sec = trades[\"vol_int\"].resample(f\"{int(DT_FE)}s\").sum().fillna(0)\n",
    "# 重新索引到 grid（确保长度一致）\n",
    "true_sec = true_sec.reindex(pd.to_datetime((grid+t0)*1e9), fill_value=0)\n",
    "true_cnt = true_sec.rolling(kernel_len).sum().shift(-(kernel_len-1))\n",
    "\n",
    "# ---------- 5. 评估 --------------------------------------------\n",
    "df_eval = pd.DataFrame({\"pred\": pred_cnt, \"true\": true_cnt}).dropna()\n",
    "\n",
    "mae  = mean_absolute_error(df_eval[\"true\"], df_eval[\"pred\"])\n",
    "rmse = mean_squared_error(df_eval[\"true\"], df_eval[\"pred\"], squared=False)\n",
    "r2   = r2_score(df_eval[\"true\"], df_eval[\"pred\"])\n",
    "\n",
    "print(f\"Samples : {len(df_eval):,}\")\n",
    "print(f\"MAE     : {mae:.3f}\")\n",
    "print(f\"RMSE    : {rmse:.3f}\")\n",
    "print(f\"R²      : {r2:.4f}\")\n"
   ]
  }
 ],
 "metadata": {
  "kernelspec": {
   "display_name": ".venv",
   "language": "python",
   "name": "python3"
  },
  "language_info": {
   "codemirror_mode": {
    "name": "ipython",
    "version": 3
   },
   "file_extension": ".py",
   "mimetype": "text/x-python",
   "name": "python",
   "nbconvert_exporter": "python",
   "pygments_lexer": "ipython3",
   "version": "3.8.10"
  }
 },
 "nbformat": 4,
 "nbformat_minor": 5
}
